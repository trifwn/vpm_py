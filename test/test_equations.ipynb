{
 "cells": [
  {
   "cell_type": "code",
   "execution_count": 1,
   "metadata": {},
   "outputs": [],
   "source": [
    "%matplotlib qt\n",
    "%load_ext autoreload   \n",
    "%autoreload 2\n"
   ]
  },
  {
   "cell_type": "code",
   "execution_count": 2,
   "metadata": {},
   "outputs": [],
   "source": [
    "from vpm_py.equations import (\n",
    "    Equation,\n",
    "    PDETerm,\n",
    "    CoordinateTerm,\n",
    "    DifferentialOperator,\n",
    "    Problem,\n",
    "    Constant,\n",
    "    OperationTree\n",
    ")\n",
    "from IPython.display import display, Math\n"
   ]
  },
  {
   "cell_type": "markdown",
   "metadata": {},
   "source": [
    "# SpaceTime"
   ]
  },
  {
   "cell_type": "code",
   "execution_count": 3,
   "metadata": {},
   "outputs": [],
   "source": [
    "num_dimensions = 3\n",
    "X = CoordinateTerm(\"X\", n_components=num_dimensions)\n",
    "T = CoordinateTerm(\"t\", n_components=1)\n"
   ]
  },
  {
   "cell_type": "markdown",
   "metadata": {},
   "source": [
    "# Operators"
   ]
  },
  {
   "cell_type": "code",
   "execution_count": 4,
   "metadata": {},
   "outputs": [],
   "source": [
    "# Define basic differential operators\n",
    "DIV = DifferentialOperator(\n",
    "    \"div\", r\"\\nabla \\cdot\", input_dim=num_dimensions, output_dim=num_dimensions\n",
    ")\n",
    "GRAD = DifferentialOperator(\"grad\", r\"\\nabla\", input_dim=1, output_dim=num_dimensions)\n",
    "CURL = DifferentialOperator(\n",
    "    \"curl\", r\"\\nabla \\times\", input_dim=num_dimensions, output_dim=num_dimensions\n",
    ")\n",
    "SCALAR_Derivative = DifferentialOperator(\n",
    "    \"d/d\",\n",
    "    r\"\\frac{\\partial}{\\partial }\",\n",
    "    input_dim=num_dimensions,\n",
    "    output_dim=num_dimensions,\n",
    ")\n"
   ]
  },
  {
   "cell_type": "markdown",
   "metadata": {},
   "source": [
    "# Terms"
   ]
  },
  {
   "cell_type": "code",
   "execution_count": 5,
   "metadata": {},
   "outputs": [],
   "source": [
    "# Navier-Stokes Equations\n",
    "\n",
    "ONE = Constant(\"1\")\n",
    "RHO = Constant(\"ρ\")\n",
    "NU = Constant(\"ν\")\n",
    "\n",
    "# Vector Fields\n",
    "U = PDETerm(\"U\", [X, T], num_dimensions=num_dimensions)\n",
    "OMEGA = PDETerm(\"ω\", [X, T], num_dimensions=num_dimensions)\n",
    "F = PDETerm(\"F\", [X, T], num_dimensions=num_dimensions)\n",
    "# Scalar fields\n",
    "P = PDETerm(\"P\", [X, T], num_dimensions=1)\n"
   ]
  },
  {
   "cell_type": "markdown",
   "metadata": {},
   "source": [
    "# Equations"
   ]
  },
  {
   "cell_type": "code",
   "execution_count": 6,
   "metadata": {},
   "outputs": [],
   "source": [
    "# Define the equations\n",
    "eq1 = Equation(DIV(U, X), 0, name=\"Continuity Equation\")\n",
    "eq2 = Equation(CURL(U, X), -OMEGA, name=\"Vorticity Equation\")\n",
    "eq3 = Equation(\n",
    "    SCALAR_Derivative(U, T),\n",
    "    -GRAD(P, X) * (ONE / RHO) + NU * DIV(GRAD(U, X), X) + F,\n",
    "    name=\"Momentum Equation\",\n",
    ")\n"
   ]
  },
  {
   "cell_type": "markdown",
   "metadata": {},
   "source": [
    "# Navier Stokes"
   ]
  },
  {
   "cell_type": "code",
   "execution_count": null,
   "metadata": {},
   "outputs": [],
   "source": [
    "NavierStokes = Problem(name=\"Navier-Stokes Equations\", equations=[eq1, eq2, eq3])\n",
    "\n",
    "print(\"Object:\")\n",
    "print(NavierStokes)\n",
    "print(\"\\nLaTeX representation:\")\n",
    "string = NavierStokes.to_latex()\n",
    "display(Math(string))\n"
   ]
  },
  {
   "cell_type": "code",
   "execution_count": 9,
   "metadata": {},
   "outputs": [],
   "source": [
    "structure = NavierStokes.get_problem_structure()\n",
    "\n",
    "operation_tree = OperationTree()\n",
    "operation_tree.build_tree(structure)\n",
    "operation_tree.visualize()\n"
   ]
  },
  {
   "cell_type": "code",
   "execution_count": null,
   "metadata": {},
   "outputs": [],
   "source": []
  }
 ],
 "metadata": {
  "kernelspec": {
   "display_name": "vpm",
   "language": "python",
   "name": "python3"
  },
  "language_info": {
   "codemirror_mode": {
    "name": "ipython",
    "version": 3
   },
   "file_extension": ".py",
   "mimetype": "text/x-python",
   "name": "python",
   "nbconvert_exporter": "python",
   "pygments_lexer": "ipython3",
   "version": "3.12.5"
  }
 },
 "nbformat": 4,
 "nbformat_minor": 2
}
