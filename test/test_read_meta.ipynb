{
 "cells": [
  {
   "cell_type": "code",
   "execution_count": 2,
   "metadata": {},
   "outputs": [],
   "source": [
    "%matplotlib qt\n",
    "%load_ext autoreload\n",
    "%autoreload 2"
   ]
  },
  {
   "cell_type": "code",
   "execution_count": 3,
   "metadata": {},
   "outputs": [],
   "source": [
    "import os \n",
    "import numpy as np\n",
    "import matplotlib.pyplot as plt\n",
    "import pandas as pd"
   ]
  },
  {
   "cell_type": "code",
   "execution_count": 4,
   "metadata": {},
   "outputs": [],
   "source": [
    "folder = \"/mnt/c/Users/tryfonas/Data/\"\n",
    "# hill_vortex_Re\n",
    "import re \n",
    "# Match all cases that start with hill_vortex_Re=\n",
    "pattern = re.compile(r\"hill_vortex_Re=\\d+\")\n",
    "# Get all the files in the folder\n",
    "files = os.listdir(folder)\n",
    "# Filter the files that match the pattern\n",
    "files = list(filter(pattern.match, files))\n",
    "\n",
    "# Extract the Re number from the file name Re is a flot or int\n",
    "Re = [float(file.split(\"_\")[-2][3:]) for file in files]\n",
    "# Sort the Re numbers\n",
    "Re = np.sort(Re)\n",
    "# Create the file names\n",
    "case_folders = [f for _, f in sorted(zip(Re, files))]"
   ]
  },
  {
   "cell_type": "code",
   "execution_count": 5,
   "metadata": {},
   "outputs": [
    {
     "name": "stdout",
     "output_type": "stream",
     "text": [
      "/mnt/c/Users/tryfonas/Data/hill_vortex_Re=0.01_correct/solve_information.csv output.txt\n",
      "/mnt/c/Users/tryfonas/Data/hill_vortex_Re=0.1_correct/solve_information.csv output.txt\n",
      "/mnt/c/Users/tryfonas/Data/hill_vortex_Re=10000_correct/solve_information.csv output.txt\n",
      "/mnt/c/Users/tryfonas/Data/hill_vortex_Re=1000_correct/solve_information.csv output.txt\n",
      "/mnt/c/Users/tryfonas/Data/hill_vortex_Re=100_correct/solve_information.csv output.txt\n",
      "/mnt/c/Users/tryfonas/Data/hill_vortex_Re=10_correct/solve_information.csv output.txt\n",
      "/mnt/c/Users/tryfonas/Data/hill_vortex_Re=1_correct/solve_information.csv output.txt\n"
     ]
    }
   ],
   "source": [
    "filename = \"solve_information.csv\"\n",
    "dfs = []\n",
    "for case in case_folders:\n",
    "    file = os.path.join(folder, case, filename) \n",
    "    output_file_path = 'output.txt'\n",
    "\n",
    "    # Open the input file for reading and output file for writing\n",
    "    with open(file, 'r') as infile, open(output_file_path, 'w') as outfile:\n",
    "        for line in infile:\n",
    "            # Remove only trailing commas and write the modified line to the output file\n",
    "            outfile.write(line.rstrip().rstrip(',')+ '\\n')\n",
    "\n",
    "    df = pd.read_csv(\n",
    "        output_file_path,\n",
    "        sep=\",\" \n",
    "    )\n",
    "    dfs.append(df)\n",
    "    print(file, output_file_path)"
   ]
  },
  {
   "cell_type": "code",
   "execution_count": 6,
   "metadata": {},
   "outputs": [],
   "source": [
    "for df, reynolds in zip(dfs, Re):\n",
    "    fig, ax = plt.subplots(3, 2, figsize=(10, 10))\n",
    "    fig.suptitle('Re = {}'.format(reynolds))\n",
    "    iterations = df['Iteration']\n",
    "    iterations = df.index\n",
    "    enstrophy = df[' Total_Enstrophy']\n",
    "    vorticity = df[' Total_Vorticity']\n",
    "    kinetic_energy = df['Total_Kinetic_Energy']\n",
    "    momentum_x = df[' Momentum_X']\n",
    "    momentum_y = df[' Momentum_Y']\n",
    "    momentum_z = df[' Momentum_Z']\n",
    "    mean_div_w = df['MEAN_DIV_W']\n",
    "    max_div_w = df['MAX_DIV_W']\n",
    "    mean_div_vel = df[' MEAN_DIV_VEL']\n",
    "    max_div_vel = df[' MAX_DIV_VEL']\n",
    "\n",
    "    ax[0, 0].plot(iterations, enstrophy)\n",
    "    ax[0, 0].set_title('Enstrophy')\n",
    "    ax[0, 1].plot(iterations, vorticity)\n",
    "    ax[0, 1].set_title('Vorticity')\n",
    "    ax[1, 0].plot(iterations, kinetic_energy)\n",
    "    ax[1, 0].set_title('Kinetic Energy')\n",
    "\n",
    "    ax[1, 1].plot(iterations, momentum_x, label='x')\n",
    "    ax[1, 1].plot(iterations, momentum_y, label='y')\n",
    "    ax[1, 1].plot(iterations, momentum_z, label='z')\n",
    "    ax[1, 1].set_title('Momentum')\n",
    "    ax[1, 1].legend()\n",
    "\n",
    "    ax[2, 0].plot(iterations, mean_div_w, label='mean div w')\n",
    "    ax[2, 0].plot(iterations, max_div_w, label='max div w')\n",
    "    ax[2, 0].set_title('Divergence of w')\n",
    "    ax[2, 0].legend()\n",
    "\n",
    "    ax[2, 1].plot(iterations, mean_div_vel, label='mean div vel')\n",
    "    ax[2, 1].plot(iterations, max_div_vel, label='max div vel')\n",
    "    ax[2, 1].set_title('Divergence of velocity')\n",
    "    ax[2, 1].legend()\n",
    "\n",
    "    plt.show(block=True)"
   ]
  },
  {
   "cell_type": "code",
   "execution_count": 11,
   "metadata": {},
   "outputs": [],
   "source": [
    "fig, ax = plt.subplots(3, 2, figsize=(10, 10))\n",
    "for df, reynolds in zip(dfs, Re):\n",
    "    fig.suptitle('Different Reynolds')\n",
    "    iterations = df['Iteration']\n",
    "    iterations = df.index\n",
    "    enstrophy = df[' Total_Enstrophy']\n",
    "    vorticity = df[' Total_Vorticity']\n",
    "    kinetic_energy = df['Total_Kinetic_Energy']\n",
    "    momentum_x = df[' Momentum_X']\n",
    "    momentum_y = df[' Momentum_Y']\n",
    "    momentum_z = df[' Momentum_Z']\n",
    "    mean_div_w = df['MEAN_DIV_W']\n",
    "    max_div_w = df['MAX_DIV_W']\n",
    "    mean_div_vel = df[' MEAN_DIV_VEL']\n",
    "    max_div_vel = df[' MAX_DIV_VEL']\n",
    "\n",
    "    ax[0, 0].plot(iterations, enstrophy, label = f'Re={reynolds}')\n",
    "    ax[0, 0].set_title('Enstrophy')\n",
    "    ax[0, 0].legend()\n",
    "\n",
    "    ax[0, 1].plot(iterations, vorticity)\n",
    "    ax[0, 1].set_title('Vorticity')\n",
    "    # ax[0, 1].legend()\n",
    "    \n",
    "    ax[1, 0].plot(iterations, kinetic_energy)\n",
    "    ax[1, 0].set_title('Kinetic Energy')\n",
    "    # ax[1, 0].legend()\n",
    "\n",
    "    ax[1, 1].plot(iterations, momentum_x, label=f'x Re={reynolds}')\n",
    "    ax[1, 1].plot(iterations, momentum_y, label=f'y Re={reynolds}')\n",
    "    ax[1, 1].plot(iterations, momentum_z, label=f'z Re={reynolds}')\n",
    "    ax[1, 1].set_title('Momentum')\n",
    "    # ax[1, 1].legend()\n",
    "\n",
    "    ax[2, 0].plot(iterations, mean_div_w, label=f'mean div w Re={reynolds}')\n",
    "    ax[2, 0].plot(iterations, max_div_w, label=f'max div w Re={reynolds}')\n",
    "    ax[2, 0].set_title('Divergence of w')\n",
    "    ax[2, 0].legend()\n",
    "\n",
    "    ax[2, 1].plot(iterations, mean_div_vel, label=f'mean div vel Re={reynolds}')\n",
    "    ax[2, 1].plot(iterations, max_div_vel, label=f'max div vel Re={reynolds}')\n",
    "    ax[2, 1].set_title('Divergence of velocity')\n",
    "    # ax[2, 1].legend()\n"
   ]
  },
  {
   "cell_type": "code",
   "execution_count": 8,
   "metadata": {},
   "outputs": [
    {
     "ename": "AttributeError",
     "evalue": "module 'matplotlib.pyplot' has no attribute 'set_title'",
     "output_type": "error",
     "traceback": [
      "\u001b[0;31m---------------------------------------------------------------------------\u001b[0m",
      "\u001b[0;31mAttributeError\u001b[0m                            Traceback (most recent call last)",
      "Cell \u001b[0;32mIn[8], line 20\u001b[0m\n\u001b[1;32m     18\u001b[0m plt\u001b[38;5;241m.\u001b[39mplot(iterations, momentum_y, label\u001b[38;5;241m=\u001b[39m\u001b[38;5;124mf\u001b[39m\u001b[38;5;124m'\u001b[39m\u001b[38;5;124my Re=\u001b[39m\u001b[38;5;132;01m{\u001b[39;00mreynolds\u001b[38;5;132;01m}\u001b[39;00m\u001b[38;5;124m'\u001b[39m)\n\u001b[1;32m     19\u001b[0m plt\u001b[38;5;241m.\u001b[39mplot(iterations, momentum_z, label\u001b[38;5;241m=\u001b[39m\u001b[38;5;124mf\u001b[39m\u001b[38;5;124m'\u001b[39m\u001b[38;5;124mz Re=\u001b[39m\u001b[38;5;132;01m{\u001b[39;00mreynolds\u001b[38;5;132;01m}\u001b[39;00m\u001b[38;5;124m'\u001b[39m)\n\u001b[0;32m---> 20\u001b[0m plt\u001b[38;5;241m.\u001b[39mset_title(\u001b[38;5;124m'\u001b[39m\u001b[38;5;124mMomentum\u001b[39m\u001b[38;5;124m'\u001b[39m)\n\u001b[1;32m     21\u001b[0m plt\u001b[38;5;241m.\u001b[39mlegend()\n",
      "\u001b[0;31mAttributeError\u001b[0m: module 'matplotlib.pyplot' has no attribute 'set_title'"
     ]
    }
   ],
   "source": [
    "fig, ax = plt.subplots(1,1, figsize=(10, 10))\n",
    "for df, reynolds in zip(dfs, Re):\n",
    "    fig.suptitle('Different Reynolds')\n",
    "    iterations = df['Iteration']\n",
    "    iterations = df.index\n",
    "    enstrophy = df[' Total_Enstrophy']\n",
    "    vorticity = df[' Total_Vorticity']\n",
    "    kinetic_energy = df['Total_Kinetic_Energy']\n",
    "    momentum_x = df[' Momentum_X']\n",
    "    momentum_y = df[' Momentum_Y']\n",
    "    momentum_z = df[' Momentum_Z']\n",
    "    mean_div_w = df['MEAN_DIV_W']\n",
    "    max_div_w = df['MAX_DIV_W']\n",
    "    mean_div_vel = df[' MEAN_DIV_VEL']\n",
    "    max_div_vel = df[' MAX_DIV_VEL']\n",
    "\n",
    "    plt.plot(iterations, momentum_x, label=f'x Re={reynolds}')\n",
    "    plt.plot(iterations, momentum_y, label=f'y Re={reynolds}')\n",
    "    plt.plot(iterations, momentum_z, label=f'z Re={reynolds}')\n",
    "    plt.set_title('Momentum')\n",
    "    plt.legend()\n"
   ]
  },
  {
   "cell_type": "code",
   "execution_count": null,
   "metadata": {},
   "outputs": [],
   "source": []
  }
 ],
 "metadata": {
  "kernelspec": {
   "display_name": "vpm",
   "language": "python",
   "name": "python3"
  },
  "language_info": {
   "codemirror_mode": {
    "name": "ipython",
    "version": 3
   },
   "file_extension": ".py",
   "mimetype": "text/x-python",
   "name": "python",
   "nbconvert_exporter": "python",
   "pygments_lexer": "ipython3",
   "version": "3.13.1"
  }
 },
 "nbformat": 4,
 "nbformat_minor": 2
}
