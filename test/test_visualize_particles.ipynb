{
 "cells": [
  {
   "cell_type": "code",
   "execution_count": 7,
   "metadata": {},
   "outputs": [
    {
     "name": "stdout",
     "output_type": "stream",
     "text": [
      "The autoreload extension is already loaded. To reload it, use:\n",
      "  %reload_ext autoreload\n"
     ]
    }
   ],
   "source": [
    "%matplotlib qt\n",
    "%load_ext autoreload\n",
    "%autoreload 2\n"
   ]
  },
  {
   "cell_type": "code",
   "execution_count": 8,
   "metadata": {},
   "outputs": [],
   "source": [
    "from vpm_py.visualization import Visualizer, SliceFilter_3D, ValueFilter\n",
    "from vpm_py.visualization import SliceStrategy\n",
    "import os\n",
    "from vpm_py.visualization import ResultPlot\n",
    "import numpy as np\n"
   ]
  },
  {
   "cell_type": "code",
   "execution_count": 9,
   "metadata": {},
   "outputs": [
    {
     "name": "stdout",
     "output_type": "stream",
     "text": [
      "\u001b[93m------------------------------------------------------------------------------------------------------------------------------------------------------\u001b[00m\n",
      "\u001b[91m                                                                Initializing the plot                                                                 \u001b[00m\n",
      "\u001b[93m------------------------------------------------------------------------------------------------------------------------------------------------------\u001b[00m\n",
      "Number of plots: 5\n",
      "Rows: 2, Columns: 3\n"
     ]
    }
   ],
   "source": [
    "z_slice = SliceFilter_3D(strategy=SliceStrategy.MAX_INTEGRAL, plane=\"Z\")\n",
    "y_slice = SliceFilter_3D(strategy=SliceStrategy.MAX_INTEGRAL, plane=\"Y\")\n",
    "value_filter = ValueFilter(tolerance=1.5e-3, value=0.0, type=\"greater\")\n",
    "\n",
    "plot_particles = ResultPlot(\n",
    "    \"particle\",\n",
    "    quantity=\"charge\",\n",
    "    component=\"magnitude\",\n",
    "    filters=[],\n",
    ")\n",
    "\n",
    "plot_mesh_quantity_z = ResultPlot(\n",
    "    \"mesh\",\n",
    "    quantity=\"charge\",\n",
    "    component=\"magnitude\",\n",
    "    filters=[z_slice],\n",
    "    options={\n",
    "        \"add_slice_plane\": plot_particles,\n",
    "    },\n",
    ")\n",
    "plot_mesh_quantity_y = ResultPlot(\n",
    "    \"mesh\",\n",
    "    quantity=\"charge\",\n",
    "    component=\"magnitude\",\n",
    "    filters=[y_slice],\n",
    "    options={\n",
    "        \"add_slice_plane\": plot_particles,\n",
    "    },\n",
    ")\n",
    "\n",
    "plot_pressure_z = ResultPlot(\n",
    "    \"mesh\",\n",
    "    quantity=\"pressure\",\n",
    "    component=\"P\",\n",
    "    filters=[z_slice],\n",
    "    options={\n",
    "        \"add_slice_plane\": plot_particles,\n",
    "    },\n",
    ")\n",
    "plot_pressure_y = ResultPlot(\n",
    "    \"mesh\",\n",
    "    quantity=\"pressure\",\n",
    "    component=\"P\",\n",
    "    filters=[y_slice],\n",
    "    options={\n",
    "        \"add_slice_plane\": plot_particles,\n",
    "    },\n",
    ")\n",
    "\n",
    "\n",
    "plotter = Visualizer(\n",
    "    figure_size=(12, 10),\n",
    "    plot_options=[\n",
    "        plot_particles,\n",
    "        plot_mesh_quantity_z,\n",
    "        plot_mesh_quantity_y,\n",
    "        plot_pressure_z,\n",
    "        plot_pressure_y,\n",
    "    ],\n",
    ")\n"
   ]
  },
  {
   "cell_type": "code",
   "execution_count": 13,
   "metadata": {
    "notebookRunGroups": {
     "groupValue": "1"
    }
   },
   "outputs": [],
   "source": [
    "# folder = 'results_test/'\n",
    "folder = \"/mnt/c/Users/tryfonas/Data/hill_vortex/results\"\n",
    "folder = \"../build/release/gnu/bin/results_deform_dt=0.01/results\"\n",
    "# folder = \"../build/debug/gnu/bin/results_deform_CFL_variable/results\"\n",
    "# folder = \"/mnt/c/Users/tryfo/Videos/CFL_deform/results_deform_dt=0.01/results\"\n",
    "\n",
    "folder = '/mnt/c/Users/tryfonas/Data/hill_vortex_Re=10.0_nocorrect/results'\n",
    "folder = '/mnt/c/Users/tryfonas/Data/build_exe/results'\n",
    "\n"
   ]
  },
  {
   "cell_type": "code",
   "execution_count": 14,
   "metadata": {},
   "outputs": [],
   "source": [
    "# plotter.add_folder(\n",
    "#     folder=folder,\n",
    "#     particle_filename_pattern= r\".*particle.*\\.h5\",\n",
    "#     mesh_filename_pattern= r\".*pm.*\\.h5\",\n",
    "# )\n"
   ]
  },
  {
   "cell_type": "code",
   "execution_count": 15,
   "metadata": {},
   "outputs": [
    {
     "name": "stdout",
     "output_type": "stream",
     "text": [
      "Loading frame 0\n",
      "Rendering plot for frame 1/25\n",
      "\tPlot drawn in 0.00s\n",
      "\tEvents flushed in 6.24s\n",
      "Loading frame 1\n",
      "Rendering plot for frame 2/25\n",
      "\tPlot drawn in 0.00s\n",
      "\tEvents flushed in 4.19s\n",
      "Loading frame 2\n",
      "Rendering plot for frame 3/25\n",
      "\tPlot drawn in 0.00s\n",
      "\tEvents flushed in 4.12s\n",
      "Loading frame 3\n",
      "Rendering plot for frame 4/25\n",
      "\tPlot drawn in 0.00s\n",
      "\tEvents flushed in 4.22s\n",
      "Loading frame 5\n",
      "Rendering plot for frame 6/25\n",
      "\tPlot drawn in 0.00s\n",
      "\tEvents flushed in 4.29s\n",
      "Loading frame 6\n",
      "Rendering plot for frame 7/25\n",
      "\tPlot drawn in 0.00s\n",
      "\tEvents flushed in 1.91s\n",
      "Loading frame 7\n",
      "Rendering plot for frame 8/25\n",
      "\tPlot drawn in 0.00s\n",
      "\tEvents flushed in 4.25s\n",
      "Loading frame 8\n",
      "Rendering plot for frame 9/25\n",
      "\tPlot drawn in 0.00s\n",
      "\tEvents flushed in 4.38s\n",
      "Loading frame 10\n",
      "Rendering plot for frame 11/25\n",
      "\tPlot drawn in 0.00s\n",
      "\tEvents flushed in 4.21s\n",
      "Loading frame 11\n",
      "Rendering plot for frame 12/25\n",
      "\tPlot drawn in 0.00s\n",
      "\tEvents flushed in 4.46s\n",
      "Loading frame 12\n",
      "Rendering plot for frame 13/25\n",
      "\tPlot drawn in 0.00s\n",
      "\tEvents flushed in 4.11s\n",
      "Loading frame 13\n",
      "Rendering plot for frame 14/25\n",
      "\tPlot drawn in 0.00s\n",
      "\tEvents flushed in 4.38s\n",
      "Loading frame 15\n",
      "Rendering plot for frame 16/25\n",
      "\tPlot drawn in 0.00s\n",
      "\tEvents flushed in 4.22s\n",
      "Loading frame 16\n",
      "Rendering plot for frame 17/25\n",
      "\tPlot drawn in 0.00s\n",
      "\tEvents flushed in 4.38s\n",
      "Loading frame 17\n",
      "Rendering plot for frame 18/25\n",
      "\tPlot drawn in 0.00s\n",
      "\tEvents flushed in 4.23s\n",
      "Loading frame 18\n",
      "Rendering plot for frame 19/25\n",
      "\tPlot drawn in 0.00s\n",
      "\tEvents flushed in 4.13s\n",
      "Loading frame 20\n",
      "Rendering plot for frame 21/25\n",
      "\tPlot drawn in 0.00s\n",
      "\tEvents flushed in 1.69s\n",
      "Loading frame 21\n"
     ]
    },
    {
     "name": "stderr",
     "output_type": "stream",
     "text": [
      "/mnt/e/VPM/vpm_py/visualization/visualizer.py:102: SyntaxWarning: invalid escape sequence '\\.'\n",
      "  \"\"\"\n",
      "/mnt/e/VPM/vpm_py/visualization/visualizer.py:314: SyntaxWarning: invalid escape sequence '\\.'\n",
      "  \"\"\"\n"
     ]
    },
    {
     "ename": "IndexError",
     "evalue": "index 57 is out of bounds for axis 1 with size 57",
     "output_type": "error",
     "traceback": [
      "\u001b[0;31m---------------------------------------------------------------------------\u001b[0m",
      "\u001b[0;31mIndexError\u001b[0m                                Traceback (most recent call last)",
      "Cell \u001b[0;32mIn[15], line 17\u001b[0m\n\u001b[1;32m     15\u001b[0m file_mesh \u001b[38;5;241m=\u001b[39m os\u001b[38;5;241m.\u001b[39mpath\u001b[38;5;241m.\u001b[39mjoin(folder, files_mesh[idx])\n\u001b[1;32m     16\u001b[0m file_part \u001b[38;5;241m=\u001b[39m os\u001b[38;5;241m.\u001b[39mpath\u001b[38;5;241m.\u001b[39mjoin(folder, files_part[idx])\n\u001b[0;32m---> 17\u001b[0m plotter\u001b[38;5;241m.\u001b[39mload_results_from_disk(idx, total_frames, file_part, file_mesh)\n",
      "File \u001b[0;32m/mnt/e/VPM/vpm_py/visualization/visualizer.py:239\u001b[0m, in \u001b[0;36mVisualizer.load_results_from_disk\u001b[0;34m(self, frame, total_frames, file_particles, file_particle_mesh, time, render)\u001b[0m\n\u001b[1;32m    234\u001b[0m \u001b[38;5;28;01mif\u001b[39;00m \u001b[38;5;28mself\u001b[39m\u001b[38;5;241m.\u001b[39mhas_mesh:\n\u001b[1;32m    235\u001b[0m     (\n\u001b[1;32m    236\u001b[0m         neq, mesh_positions, mesh_velocities, mesh_charges, mesh_deformations, mesh_solutions,\n\u001b[1;32m    237\u001b[0m         mesh_pressure, mesh_q_pressure, mesh_u_pressure\n\u001b[1;32m    238\u001b[0m     ) \u001b[38;5;241m=\u001b[39m process_pm_output_file(file_particle_mesh)\n\u001b[0;32m--> 239\u001b[0m     \u001b[38;5;28mself\u001b[39m\u001b[38;5;241m.\u001b[39m_update_mesh_plots(\n\u001b[1;32m    240\u001b[0m         mesh_positions,\n\u001b[1;32m    241\u001b[0m         mesh_charges,\n\u001b[1;32m    242\u001b[0m         mesh_velocities,\n\u001b[1;32m    243\u001b[0m         mesh_deformations,\n\u001b[1;32m    244\u001b[0m         mesh_solutions,\n\u001b[1;32m    245\u001b[0m         mesh_pressure,\n\u001b[1;32m    246\u001b[0m         mesh_q_pressure,\n\u001b[1;32m    247\u001b[0m         mesh_u_pressure,\n\u001b[1;32m    248\u001b[0m         neq\n\u001b[1;32m    249\u001b[0m     )\n\u001b[1;32m    250\u001b[0m title \u001b[38;5;241m=\u001b[39m \u001b[38;5;124mf\u001b[39m\u001b[38;5;124m\"\u001b[39m\u001b[38;5;124mFrame \u001b[39m\u001b[38;5;132;01m{\u001b[39;00mframe\u001b[38;5;132;01m}\u001b[39;00m\u001b[38;5;124m, Realtime = \u001b[39m\u001b[38;5;132;01m{\u001b[39;00mframe\u001b[38;5;241m*\u001b[39m\u001b[38;5;250m \u001b[39m\u001b[38;5;241m0.1\u001b[39m\u001b[38;5;132;01m:\u001b[39;00m\u001b[38;5;124m.1f\u001b[39m\u001b[38;5;132;01m}\u001b[39;00m\u001b[38;5;124ms\u001b[39m\u001b[38;5;124m\"\u001b[39m\n\u001b[1;32m    251\u001b[0m \u001b[38;5;28;01mif\u001b[39;00m time:\n",
      "File \u001b[0;32m/mnt/e/VPM/vpm_py/visualization/visualizer.py:463\u001b[0m, in \u001b[0;36mVisualizer._update_mesh_plots\u001b[0;34m(self, pm_positions, pm_charges, pm_velocities, pm_deformations, pm_solutions, pm_pressure, pm_q_pressure, pm_u_pressure, neq)\u001b[0m\n\u001b[1;32m    450\u001b[0m \u001b[38;5;28;01mdef\u001b[39;00m \u001b[38;5;21m_update_mesh_plots\u001b[39m(\n\u001b[1;32m    451\u001b[0m     \u001b[38;5;28mself\u001b[39m, \n\u001b[1;32m    452\u001b[0m     pm_positions: np\u001b[38;5;241m.\u001b[39mndarray, \n\u001b[0;32m   (...)\u001b[0m\n\u001b[1;32m    460\u001b[0m     neq: \u001b[38;5;28mint\u001b[39m \u001b[38;5;241m=\u001b[39m \u001b[38;5;241m3\u001b[39m,\n\u001b[1;32m    461\u001b[0m ):\n\u001b[1;32m    462\u001b[0m     \u001b[38;5;28;01mfor\u001b[39;00m key, qoi \u001b[38;5;129;01min\u001b[39;00m \u001b[38;5;28mself\u001b[39m\u001b[38;5;241m.\u001b[39mmesh_quantities\u001b[38;5;241m.\u001b[39mitems():\n\u001b[0;32m--> 463\u001b[0m         plot_data, data, info \u001b[38;5;241m=\u001b[39m \u001b[38;5;28mself\u001b[39m\u001b[38;5;241m.\u001b[39mdata_adapters[key]\u001b[38;5;241m.\u001b[39mtransform(\n\u001b[1;32m    464\u001b[0m             neq, pm_positions, pm_charges, pm_velocities, pm_deformations, \n\u001b[1;32m    465\u001b[0m             pm_solutions, pm_pressure, pm_q_pressure, pm_u_pressure\n\u001b[1;32m    466\u001b[0m         )\n\u001b[1;32m    467\u001b[0m         title \u001b[38;5;241m=\u001b[39m \u001b[38;5;124mf\u001b[39m\u001b[38;5;124m\"\u001b[39m\u001b[38;5;124mMesh \u001b[39m\u001b[38;5;132;01m{\u001b[39;00mqoi\u001b[38;5;241m.\u001b[39mquantity_name\u001b[38;5;241m.\u001b[39mcapitalize()\u001b[38;5;132;01m}\u001b[39;00m\u001b[38;5;124m\"\u001b[39m\n\u001b[1;32m    468\u001b[0m         \u001b[38;5;28;01mif\u001b[39;00m qoi\u001b[38;5;241m.\u001b[39mcomponent:\n",
      "File \u001b[0;32m/mnt/e/VPM/vpm_py/visualization/data_adapters.py:27\u001b[0m, in \u001b[0;36mDataAdapter.transform\u001b[0;34m(self, *args, **kwargs)\u001b[0m\n\u001b[1;32m     25\u001b[0m \u001b[38;5;28;01mdef\u001b[39;00m \u001b[38;5;21mtransform\u001b[39m(\u001b[38;5;28mself\u001b[39m, \u001b[38;5;241m*\u001b[39margs, \u001b[38;5;241m*\u001b[39m\u001b[38;5;241m*\u001b[39mkwargs):\n\u001b[1;32m     26\u001b[0m     data \u001b[38;5;241m=\u001b[39m \u001b[38;5;28mself\u001b[39m\u001b[38;5;241m.\u001b[39m_preprocess(\u001b[38;5;241m*\u001b[39margs, \u001b[38;5;241m*\u001b[39m\u001b[38;5;241m*\u001b[39mkwargs)\n\u001b[0;32m---> 27\u001b[0m     filtered_data, filter_info \u001b[38;5;241m=\u001b[39m \u001b[38;5;28mself\u001b[39m\u001b[38;5;241m.\u001b[39mapply_filters(data)\n\u001b[1;32m     28\u001b[0m     plot_data \u001b[38;5;241m=\u001b[39m \u001b[38;5;28mself\u001b[39m\u001b[38;5;241m.\u001b[39m_transform(filtered_data)\n\u001b[1;32m     29\u001b[0m     \u001b[38;5;28;01mreturn\u001b[39;00m plot_data, filtered_data, filter_info\n",
      "File \u001b[0;32m/mnt/e/VPM/vpm_py/visualization/data_adapters.py:21\u001b[0m, in \u001b[0;36mDataAdapter.apply_filters\u001b[0;34m(self, data)\u001b[0m\n\u001b[1;32m     19\u001b[0m filter_info \u001b[38;5;241m=\u001b[39m {}\n\u001b[1;32m     20\u001b[0m \u001b[38;5;28;01mfor\u001b[39;00m filt \u001b[38;5;129;01min\u001b[39;00m \u001b[38;5;28mself\u001b[39m\u001b[38;5;241m.\u001b[39mfilters:\n\u001b[0;32m---> 21\u001b[0m     data, info \u001b[38;5;241m=\u001b[39m filt\u001b[38;5;241m.\u001b[39mapply(\u001b[38;5;28mself\u001b[39m\u001b[38;5;241m.\u001b[39mquantity_of_interest, data)\n\u001b[1;32m     22\u001b[0m     filter_info\u001b[38;5;241m.\u001b[39mupdate(info)\n\u001b[1;32m     23\u001b[0m \u001b[38;5;28;01mreturn\u001b[39;00m data , filter_info\n",
      "File \u001b[0;32m/mnt/e/VPM/vpm_py/visualization/filters.py:82\u001b[0m, in \u001b[0;36mSliceFilter_3D.apply\u001b[0;34m(self, quantity_of_interest, data)\u001b[0m\n\u001b[1;32m     80\u001b[0m     sliced_data[key] \u001b[38;5;241m=\u001b[39m \u001b[38;5;28mslice\u001b[39m[slices]\n\u001b[1;32m     81\u001b[0m \u001b[38;5;28;01melif\u001b[39;00m \u001b[38;5;28misinstance\u001b[39m(\u001b[38;5;28mslice\u001b[39m, \u001b[38;5;28mdict\u001b[39m):\n\u001b[0;32m---> 82\u001b[0m     sliced_data[key] \u001b[38;5;241m=\u001b[39m {k: v[slices] \u001b[38;5;28;01mfor\u001b[39;00m k, v \u001b[38;5;129;01min\u001b[39;00m \u001b[38;5;28mslice\u001b[39m\u001b[38;5;241m.\u001b[39mitems()}\n\u001b[1;32m     83\u001b[0m \u001b[38;5;28;01melif\u001b[39;00m key \u001b[38;5;241m==\u001b[39m \u001b[38;5;124m'\u001b[39m\u001b[38;5;124msolution\u001b[39m\u001b[38;5;124m'\u001b[39m:\n\u001b[1;32m     84\u001b[0m     \u001b[38;5;28;01mpass\u001b[39;00m\n",
      "\u001b[0;31mIndexError\u001b[0m: index 57 is out of bounds for axis 1 with size 57"
     ]
    }
   ],
   "source": [
    "import re\n",
    "\n",
    "files = os.listdir(folder)\n",
    "particle_pattern = r\".*particles.*\\.h5\"\n",
    "mesh_pattern = r\".*mesh.*\\.h5\"\n",
    "particle_regex = re.compile(particle_pattern)\n",
    "mesh_regex = re.compile(mesh_pattern)\n",
    "\n",
    "files_part = [f for f in files if particle_regex.match(f)]\n",
    "files_mesh = [f for f in files if mesh_regex.match(f)]\n",
    "\n",
    "total_frames = len(files_part)\n",
    "for idx in np.linspace(0, len(files_part) - 1, 20, dtype=int):\n",
    "    print(f\"Loading frame {idx}\")\n",
    "    file_mesh = os.path.join(folder, files_mesh[idx])\n",
    "    file_part = os.path.join(folder, files_part[idx])\n",
    "    plotter.load_results_from_disk(idx, total_frames, file_part, file_mesh)\n",
    "\n",
    "# plotter.animate_result_folder(\n",
    "#     folder,\n",
    "#     total_frames=len(files_part),\n",
    "#     start_frame=0,\n",
    "#     dt=0.1,\n",
    "#     save_filename=\"animation_only_charged_particles\",\n",
    "#     format=\"mp4\",\n",
    "#     particle_filename_pattern=particle_pattern,\n",
    "#     mesh_filename_pattern=mesh_pattern,\n",
    "# )\n"
   ]
  },
  {
   "cell_type": "code",
   "execution_count": null,
   "metadata": {},
   "outputs": [],
   "source": []
  }
 ],
 "metadata": {
  "kernelspec": {
   "display_name": "vpm",
   "language": "python",
   "name": "python3"
  },
  "language_info": {
   "codemirror_mode": {
    "name": "ipython",
    "version": 3
   },
   "file_extension": ".py",
   "mimetype": "text/x-python",
   "name": "python",
   "nbconvert_exporter": "python",
   "pygments_lexer": "ipython3",
   "version": "3.12.8"
  }
 },
 "nbformat": 4,
 "nbformat_minor": 2
}
