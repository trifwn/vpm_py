{
 "cells": [
  {
   "cell_type": "code",
   "execution_count": 1,
   "metadata": {},
   "outputs": [],
   "source": [
    "%matplotlib qt\n",
    "%load_ext autoreload\n",
    "%autoreload 2\n"
   ]
  },
  {
   "cell_type": "code",
   "execution_count": 2,
   "metadata": {},
   "outputs": [],
   "source": [
    "from vpm_py.visualization import Visualizer, SliceFilter_3D, ValueFilter\n",
    "from vpm_py.visualization import SliceStrategy\n",
    "import os\n",
    "from vpm_py.visualization import ResultPlot\n",
    "import numpy as np\n",
    "from vpm_py.vpm import VPM\n"
   ]
  },
  {
   "cell_type": "code",
   "execution_count": null,
   "metadata": {},
   "outputs": [],
   "source": [
    "# Initialize VPM\n",
    "vpm = VPM(\n",
    "    number_of_equations=3,\n",
    "    number_of_processors=1,\n",
    "    rank=0,\n",
    "    verbocity=2,\n",
    "    dx_particle_mesh=0.1,\n",
    "    dy_particle_mesh=0.1,\n",
    "    dz_particle_mesh=0.1,\n",
    ")\n"
   ]
  },
  {
   "cell_type": "code",
   "execution_count": null,
   "metadata": {},
   "outputs": [],
   "source": [
    "z_slice = SliceFilter_3D(strategy=SliceStrategy.MAX_INTEGRAL, plane=\"Z\")\n",
    "y_slice = SliceFilter_3D(strategy=SliceStrategy.MAX_INTEGRAL, plane=\"Y\")\n",
    "\n",
    "plot_particles = ResultPlot(\n",
    "    \"particle\",\n",
    "    quantity=\"charge\",\n",
    "    component=\"magnitude\",\n",
    "    filters=[],\n",
    ")\n",
    "plot_mesh = ResultPlot(\n",
    "    \"mesh\",\n",
    "    quantity=\"charge\",\n",
    "    component=\"magnitude\",\n",
    "    filters=[],\n",
    "    options={\n",
    "        \"s\": \"auto\",\n",
    "    },\n",
    ")\n",
    "\n",
    "plot_mesh_quantity_z = ResultPlot(\n",
    "    \"mesh\",\n",
    "    quantity=\"charge\",\n",
    "    component=\"magnitude\",\n",
    "    filters=[z_slice],\n",
    "    options={\n",
    "        \"add_slice_plane\": plot_particles,\n",
    "    },\n",
    ")\n",
    "plot_mesh_quantity_y = ResultPlot(\n",
    "    \"mesh\",\n",
    "    quantity=\"velocity\",\n",
    "    component=\"magnitude\",\n",
    "    filters=[y_slice],\n",
    "    options={\n",
    "        \"add_slice_plane\": plot_particles,\n",
    "    },\n",
    ")\n",
    "\n",
    "plotter = Visualizer(\n",
    "    figure_size=(12, 10),\n",
    "    plot_options=[\n",
    "        plot_particles,\n",
    "        plot_mesh,\n",
    "        plot_mesh_quantity_z,\n",
    "        plot_mesh_quantity_y,\n",
    "    ],\n",
    ")\n"
   ]
  },
  {
   "cell_type": "code",
   "execution_count": null,
   "metadata": {},
   "outputs": [],
   "source": [
    "folder = \"results_test/\"\n",
    "files = os.listdir(folder)\n",
    "files_part = sorted([f for f in files if f.endswith(\"particles_test.h5\")])\n",
    "files_mesh = sorted([f for f in files if f.endswith(\"pm_test.h5\")])\n",
    "print(files_part)\n",
    "print(files_mesh)\n",
    "# total_frames = len(files_part)\n",
    "# for idx in np.linspace(0, total_frames - 1, 30).astype(int):\n",
    "#     file_mesh = os.path.join(folder, files_mesh[idx])\n",
    "#     file_part = os.path.join(folder, files_part[idx])\n",
    "#     plotter.load_results_from_disk(idx, total_frames, file_part, file_mesh)\n",
    "\n",
    "plotter.animate_result_folder(\n",
    "    folder,\n",
    "    total_frames=len(files_part),\n",
    "    start_frame=1,\n",
    "    dt=0.1,\n",
    "    save_filename=\"animation\",\n",
    "    format=\"mp4\",\n",
    "    particle_filename_format=\"particles_test.h5\",\n",
    "    mesh_filename_format=\"pm_test.h5\",\n",
    ")\n"
   ]
  },
  {
   "cell_type": "code",
   "execution_count": null,
   "metadata": {},
   "outputs": [],
   "source": []
  }
 ],
 "metadata": {
  "kernelspec": {
   "display_name": "vpm",
   "language": "python",
   "name": "python3"
  },
  "language_info": {
   "codemirror_mode": {
    "name": "ipython",
    "version": 3
   },
   "file_extension": ".py",
   "mimetype": "text/x-python",
   "name": "python",
   "nbconvert_exporter": "python",
   "pygments_lexer": "ipython3",
   "version": "3.12.5"
  }
 },
 "nbformat": 4,
 "nbformat_minor": 2
}
