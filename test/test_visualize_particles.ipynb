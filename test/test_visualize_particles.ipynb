{
 "cells": [
  {
   "cell_type": "code",
   "execution_count": 5,
   "metadata": {},
   "outputs": [
    {
     "name": "stdout",
     "output_type": "stream",
     "text": [
      "The autoreload extension is already loaded. To reload it, use:\n",
      "  %reload_ext autoreload\n"
     ]
    }
   ],
   "source": [
    "%matplotlib qt\n",
    "%load_ext autoreload\n",
    "%autoreload 2\n"
   ]
  },
  {
   "cell_type": "code",
   "execution_count": 6,
   "metadata": {},
   "outputs": [],
   "source": [
    "from vpm_py.visualization import Visualizer\n"
   ]
  },
  {
   "cell_type": "code",
   "execution_count": 7,
   "metadata": {},
   "outputs": [
    {
     "name": "stdout",
     "output_type": "stream",
     "text": [
      "\u001b[93m------------------------------------------------------------------------------------------------------------------------------------------------------\u001b[00m\n",
      "\u001b[91m                                                                Initializing the plot                                                                 \u001b[00m\n",
      "\u001b[93m------------------------------------------------------------------------------------------------------------------------------------------------------\u001b[00m\n"
     ]
    }
   ],
   "source": [
    "plotter = Visualizer(\n",
    "    plot_particle_mesh=True,\n",
    "    plot_particle_mesh_slices=True,\n",
    "    plot_particles=True,\n",
    "    quantity_to_plot=\"Particle Strengths\",\n",
    ")\n"
   ]
  },
  {
   "cell_type": "code",
   "execution_count": 8,
   "metadata": {},
   "outputs": [
    {
     "name": "stderr",
     "output_type": "stream",
     "text": [
      "Updating Slice Plots for frame: 9/10: : 11it [01:52, 10.21s/it]                                 \n"
     ]
    }
   ],
   "source": [
    "plotter.animate_result_folder(\n",
    "    'results/', 10\n",
    ")\n"
   ]
  },
  {
   "cell_type": "code",
   "execution_count": null,
   "metadata": {},
   "outputs": [],
   "source": []
  }
 ],
 "metadata": {
  "kernelspec": {
   "display_name": "vpm",
   "language": "python",
   "name": "python3"
  },
  "language_info": {
   "codemirror_mode": {
    "name": "ipython",
    "version": 3
   },
   "file_extension": ".py",
   "mimetype": "text/x-python",
   "name": "python",
   "nbconvert_exporter": "python",
   "pygments_lexer": "ipython3",
   "version": "3.12.2"
  }
 },
 "nbformat": 4,
 "nbformat_minor": 2
}
