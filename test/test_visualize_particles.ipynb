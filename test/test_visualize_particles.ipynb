{
 "cells": [
  {
   "cell_type": "code",
   "execution_count": 1,
   "metadata": {},
   "outputs": [],
   "source": [
    "%matplotlib qt\n",
    "%load_ext autoreload\n",
    "%autoreload 2\n"
   ]
  },
  {
   "cell_type": "code",
   "execution_count": 2,
   "metadata": {},
   "outputs": [],
   "source": [
    "from vpm_py.visualization import Visualizer, SliceFilter_3D, ValueFilter\n",
    "from vpm_py.visualization import SliceStrategy\n",
    "import os\n",
    "from vpm_py.visualization import ResultPlot\n",
    "import numpy as np\n"
   ]
  },
  {
   "cell_type": "code",
   "execution_count": null,
   "metadata": {},
   "outputs": [],
   "source": [
    "z_slice = SliceFilter_3D(strategy=SliceStrategy.MAX_INTEGRAL, plane=\"Z\")\n",
    "y_slice = SliceFilter_3D(strategy=SliceStrategy.MAX_INTEGRAL, plane=\"Y\")\n",
    "value_filter = ValueFilter(tolerance=1.5e-3, value=0.0, type=\"greater\")\n",
    "\n",
    "plot_particles = ResultPlot(\n",
    "    \"particle\",\n",
    "    quantity=\"charge\",\n",
    "    component=\"magnitude\",\n",
    "    filters=[],\n",
    ")\n",
    "plot_mesh = ResultPlot(\n",
    "    \"mesh\",\n",
    "    quantity=\"charge\",\n",
    "    component=\"magnitude\",\n",
    "    filters=[],\n",
    "    options={\n",
    "        \"s\": \"auto\",\n",
    "    },\n",
    ")\n",
    "\n",
    "plot_mesh_quantity_z = ResultPlot(\n",
    "    \"mesh\",\n",
    "    quantity=\"charge\",\n",
    "    component=\"magnitude\",\n",
    "    filters=[z_slice],\n",
    "    options={\n",
    "        \"add_slice_plane\": plot_particles,\n",
    "    },\n",
    ")\n",
    "plot_mesh_quantity_y = ResultPlot(\n",
    "    \"mesh\",\n",
    "    quantity=\"velocity\",\n",
    "    component=\"magnitude\",\n",
    "    filters=[y_slice],\n",
    "    options={\n",
    "        \"add_slice_plane\": plot_particles,\n",
    "    },\n",
    ")\n",
    "\n",
    "plotter = Visualizer(\n",
    "    figure_size=(12, 10),\n",
    "    plot_options=[\n",
    "        plot_particles,\n",
    "        plot_mesh,\n",
    "        plot_mesh_quantity_z,\n",
    "        plot_mesh_quantity_y,\n",
    "    ],\n",
    ")\n"
   ]
  },
  {
   "cell_type": "code",
   "execution_count": 11,
   "metadata": {},
   "outputs": [],
   "source": [
    "# folder = 'results/'\n",
    "folder = \"/mnt/c/Users/tryfo/Videos/results_RK4\"\n"
   ]
  },
  {
   "cell_type": "code",
   "execution_count": 12,
   "metadata": {},
   "outputs": [],
   "source": [
    "# plotter.add_folder(\n",
    "#     folder=folder,\n",
    "#     particle_filename_pattern= r\".*particle.*\\.h5\",\n",
    "#     mesh_filename_pattern= r\".*pm.*\\.h5\",\n",
    "# )\n"
   ]
  },
  {
   "cell_type": "code",
   "execution_count": null,
   "metadata": {},
   "outputs": [],
   "source": [
    "files = os.listdir(folder)\n",
    "particle_pattern = r\".*particle.*\\.h5\"\n",
    "mesh_pattern = r\".*mesh.*\\.h5\"\n",
    "\n",
    "# Find the files using the regex\n",
    "import re\n",
    "\n",
    "particle_regex = re.compile(particle_pattern)\n",
    "mesh_regex = re.compile(mesh_pattern)\n",
    "\n",
    "files_part = [f for f in files if particle_regex.match(f)]\n",
    "files_mesh = [f for f in files if mesh_regex.match(f)]\n",
    "\n",
    "total_frames = len(files_part)\n",
    "for idx in np.linspace(0, total_frames - 1, 40).astype(int):\n",
    "    print(f\"Loading frame {idx}\")\n",
    "    file_mesh = os.path.join(folder, files_mesh[idx])\n",
    "    file_part = os.path.join(folder, files_part[idx])\n",
    "    plotter.load_results_from_disk(idx, total_frames, file_part, file_mesh)\n",
    "\n",
    "# plotter.animate_result_folder(\n",
    "#     folder,\n",
    "#     total_frames=len(files_part),\n",
    "#     start_frame=0,\n",
    "#     dt=0.1,\n",
    "#     save_filename=\"animation_only_charged_particles\",\n",
    "#     format=\"mp4\",\n",
    "#     particle_filename_pattern=particle_pattern,\n",
    "#     mesh_filename_pattern=mesh_pattern,\n",
    "# )\n"
   ]
  },
  {
   "cell_type": "code",
   "execution_count": null,
   "metadata": {},
   "outputs": [],
   "source": []
  }
 ],
 "metadata": {
  "kernelspec": {
   "display_name": "vpm",
   "language": "python",
   "name": "python3"
  },
  "language_info": {
   "codemirror_mode": {
    "name": "ipython",
    "version": 3
   },
   "file_extension": ".py",
   "mimetype": "text/x-python",
   "name": "python",
   "nbconvert_exporter": "python",
   "pygments_lexer": "ipython3",
   "version": "3.12.5"
  }
 },
 "nbformat": 4,
 "nbformat_minor": 2
}
