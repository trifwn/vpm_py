{
 "cells": [
  {
   "cell_type": "code",
   "execution_count": 1,
   "metadata": {},
   "outputs": [],
   "source": [
    "%matplotlib qt\n",
    "%load_ext autoreload\n",
    "%autoreload 2\n"
   ]
  },
  {
   "cell_type": "code",
   "execution_count": 8,
   "metadata": {},
   "outputs": [],
   "source": [
    "from vpm_py.visualization import Visualizer, SliceFilter_3D, ValueFilter\n",
    "from vpm_py.visualization import SliceStrategy\n",
    "import os\n",
    "from vpm_py.visualization import ResultPlot\n",
    "import numpy as np\n"
   ]
  },
  {
   "cell_type": "code",
   "execution_count": null,
   "metadata": {},
   "outputs": [],
   "source": [
    "z_slice = SliceFilter_3D(strategy=SliceStrategy.MAX_INTEGRAL, plane=\"Z\")\n",
    "y_slice = SliceFilter_3D(strategy=SliceStrategy.MAX_INTEGRAL, plane=\"Y\")\n",
    "value_filter = ValueFilter(tolerance=1.5e-3, value=0.0, type=\"greater\")\n",
    "\n",
    "plot_particles = ResultPlot(\n",
    "    \"particle\",\n",
    "    quantity=\"charge\",\n",
    "    component=\"magnitude\",\n",
    "    filters=[],\n",
    ")\n",
    "\n",
    "plot_mesh_quantity_z = ResultPlot(\n",
    "    \"mesh\",\n",
    "    quantity=\"charge\",\n",
    "    component=\"magnitude\",\n",
    "    filters=[z_slice],\n",
    "    options={\n",
    "        \"add_slice_plane\": plot_particles,\n",
    "    },\n",
    ")\n",
    "plot_mesh_quantity_y = ResultPlot(\n",
    "    \"mesh\",\n",
    "    quantity=\"charge\",\n",
    "    component=\"magnitude\",\n",
    "    filters=[y_slice],\n",
    "    options={\n",
    "        \"add_slice_plane\": plot_particles,\n",
    "    },\n",
    ")\n",
    "\n",
    "plot_pressure_z = ResultPlot(\n",
    "    \"mesh\",\n",
    "    quantity=\"pressure\",\n",
    "    component=\"P\",\n",
    "    filters=[z_slice],\n",
    "    options={\n",
    "        \"add_slice_plane\": plot_particles,\n",
    "    },\n",
    ")\n",
    "plot_pressure_y = ResultPlot(\n",
    "    \"mesh\",\n",
    "    quantity=\"pressure\",\n",
    "    component=\"P\",\n",
    "    filters=[y_slice],\n",
    "    options={\n",
    "        \"add_slice_plane\": plot_particles,\n",
    "    },\n",
    ")\n",
    "\n",
    "\n",
    "plotter = Visualizer(\n",
    "    figure_size=(12, 10),\n",
    "    plot_options=[\n",
    "        plot_particles,\n",
    "        plot_mesh_quantity_z,\n",
    "        plot_mesh_quantity_y,\n",
    "        plot_pressure_z,\n",
    "        plot_pressure_y,\n",
    "    ],\n",
    ")\n"
   ]
  },
  {
   "cell_type": "code",
   "execution_count": 13,
   "metadata": {
    "notebookRunGroups": {
     "groupValue": "1"
    }
   },
   "outputs": [],
   "source": [
    "# folder = 'results_test/'\n",
    "# folder = '/mnt/c/Users/tryfonas/Data/build_exe/results'\n",
    "folder = \"/mnt/c/Users/tryfonas/Data/hill_vortex/results\"\n",
    "folder = \"../build/release/gnu/bin/results_deform_dt=0.01/results\"\n",
    "# folder = \"../build/debug/gnu/bin/results_deform_CFL_variable/results\"\n",
    "# folder = \"/mnt/c/Users/tryfo/Videos/CFL_deform/results_deform_dt=0.01/results\"\n",
    "folder = '/mnt/c/Users/tryfonas/Data/hill_vortex_Re=100.0_nocorrect_remesh_40/results'\n",
    "\n"
   ]
  },
  {
   "cell_type": "code",
   "execution_count": 14,
   "metadata": {},
   "outputs": [],
   "source": [
    "# plotter.add_folder(\n",
    "#     folder=folder,\n",
    "#     particle_filename_pattern= r\".*particle.*\\.h5\",\n",
    "#     mesh_filename_pattern= r\".*pm.*\\.h5\",\n",
    "# )\n"
   ]
  },
  {
   "cell_type": "code",
   "execution_count": null,
   "metadata": {},
   "outputs": [],
   "source": [
    "import re\n",
    "\n",
    "files = os.listdir(folder)\n",
    "particle_pattern = r\".*particles.*\\.h5\"\n",
    "mesh_pattern = r\".*mesh.*\\.h5\"\n",
    "particle_regex = re.compile(particle_pattern)\n",
    "mesh_regex = re.compile(mesh_pattern)\n",
    "\n",
    "files_part = [f for f in files if particle_regex.match(f)]\n",
    "files_mesh = [f for f in files if mesh_regex.match(f)]\n",
    "\n",
    "total_frames = len(files_part)\n",
    "for idx in np.linspace(0, len(files_part) - 1, 20, dtype=int):\n",
    "    print(f\"Loading frame {idx}\")\n",
    "    file_mesh = os.path.join(folder, files_mesh[idx])\n",
    "    file_part = os.path.join(folder, files_part[idx])\n",
    "    plotter.load_results_from_disk(idx, total_frames, file_part, file_mesh)\n",
    "\n",
    "# plotter.animate_result_folder(\n",
    "#     folder,\n",
    "#     total_frames=len(files_part),\n",
    "#     start_frame=0,\n",
    "#     dt=0.1,\n",
    "#     save_filename=\"animation_only_charged_particles\",\n",
    "#     format=\"mp4\",\n",
    "#     particle_filename_pattern=particle_pattern,\n",
    "#     mesh_filename_pattern=mesh_pattern,\n",
    "# )\n"
   ]
  }
 ],
 "metadata": {
  "kernelspec": {
   "display_name": "vpm",
   "language": "python",
   "name": "python3"
  },
  "language_info": {
   "codemirror_mode": {
    "name": "ipython",
    "version": 3
   },
   "file_extension": ".py",
   "mimetype": "text/x-python",
   "name": "python",
   "nbconvert_exporter": "python",
   "pygments_lexer": "ipython3",
   "version": "3.12.8"
  }
 },
 "nbformat": 4,
 "nbformat_minor": 2
}
