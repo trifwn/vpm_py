{
 "cells": [
  {
   "cell_type": "code",
   "execution_count": 1,
   "metadata": {},
   "outputs": [],
   "source": [
    "%matplotlib qt\n",
    "%load_ext autoreload\n",
    "%autoreload 2\n"
   ]
  },
  {
   "cell_type": "code",
   "execution_count": 2,
   "metadata": {},
   "outputs": [],
   "source": [
    "from vpm_py.visualization import Visualizer, SliceFilter_3D, ValueFilter\n",
    "from vpm_py.visualization import SliceStrategy\n",
    "import os\n",
    "from vpm_py.visualization import ResultPlot\n",
    "import numpy as np\n"
   ]
  },
  {
   "cell_type": "code",
   "execution_count": 3,
   "metadata": {},
   "outputs": [
    {
     "name": "stdout",
     "output_type": "stream",
     "text": [
      "\u001b[93m------------------------------------------------------------------------------------------------------------------------------------------------------\u001b[00m\n",
      "\u001b[91m                                                                Initializing the plot                                                                 \u001b[00m\n",
      "\u001b[93m------------------------------------------------------------------------------------------------------------------------------------------------------\u001b[00m\n",
      "Number of plots: 4\n",
      "Rows: 2, Columns: 2\n"
     ]
    }
   ],
   "source": [
    "z_slice = SliceFilter_3D(strategy=SliceStrategy.MAX_INTEGRAL, plane=\"Z\")\n",
    "y_slice = SliceFilter_3D(strategy=SliceStrategy.MAX_INTEGRAL, plane=\"Y\")\n",
    "value_filter = ValueFilter(tolerance=1.5e-3, value=0.0, type=\"greater\")\n",
    "\n",
    "plot_particles = ResultPlot(\n",
    "    \"particle\",\n",
    "    quantity=\"charge\",\n",
    "    component=\"magnitude\",\n",
    "    filters=[],\n",
    ")\n",
    "plot_mesh = ResultPlot(\n",
    "    \"mesh\",\n",
    "    quantity=\"charge\",\n",
    "    component=\"magnitude\",\n",
    "    filters=[],\n",
    "    options={\n",
    "        \"s\": \"auto\",\n",
    "    },\n",
    ")\n",
    "\n",
    "plot_mesh_quantity_z = ResultPlot(\n",
    "    \"mesh\",\n",
    "    quantity=\"charge\",\n",
    "    component=\"magnitude\",\n",
    "    filters=[z_slice],\n",
    "    options={\n",
    "        \"add_slice_plane\": plot_particles,\n",
    "    },\n",
    ")\n",
    "plot_mesh_quantity_y = ResultPlot(\n",
    "    \"mesh\",\n",
    "    quantity=\"charge\",\n",
    "    component=\"magnitude\",\n",
    "    filters=[y_slice],\n",
    "    options={\n",
    "        \"add_slice_plane\": plot_particles,\n",
    "    },\n",
    ")\n",
    "\n",
    "plotter = Visualizer(\n",
    "    figure_size=(12, 10),\n",
    "    plot_options=[\n",
    "        plot_particles,\n",
    "        plot_mesh,\n",
    "        plot_mesh_quantity_z,\n",
    "        plot_mesh_quantity_y,\n",
    "    ],\n",
    ")\n"
   ]
  },
  {
   "cell_type": "code",
   "execution_count": 4,
   "metadata": {
    "notebookRunGroups": {
     "groupValue": "1"
    }
   },
   "outputs": [],
   "source": [
    "# folder = 'results_test/'\n",
    "# folder = 'results'\n",
    "# folder = \"/mnt/c/Users/tryfo/Videos/results_RK4\"\n",
    "folder = \"../build/release/gnu/bin/results_deform_dt=0.01/results\"\n",
    "# folder = \"../build/debug/gnu/bin/results_deform_CFL_variable/results\"\n",
    "# folder = \"/mnt/c/Users/tryfo/Videos/CFL_deform/results_deform_dt=0.01/results\"\n",
    "\n"
   ]
  },
  {
   "cell_type": "code",
   "execution_count": 5,
   "metadata": {},
   "outputs": [],
   "source": [
    "# plotter.add_folder(\n",
    "#     folder=folder,\n",
    "#     particle_filename_pattern= r\".*particle.*\\.h5\",\n",
    "#     mesh_filename_pattern= r\".*pm.*\\.h5\",\n",
    "# )\n"
   ]
  },
  {
   "cell_type": "code",
   "execution_count": 6,
   "metadata": {},
   "outputs": [
    {
     "name": "stderr",
     "output_type": "stream",
     "text": [
      "Drawing frame 50/50: : 51it [17:21, 20.43s/it, Frame 50/50]                      \n"
     ]
    }
   ],
   "source": [
    "files = os.listdir(folder)\n",
    "particle_pattern = r\".*particles.*\\.h5\"\n",
    "mesh_pattern = r\".*mesh.*\\.h5\"\n",
    "\n",
    "\n",
    "# Find the files using the regex\n",
    "import re\n",
    "\n",
    "particle_regex = re.compile(particle_pattern)\n",
    "mesh_regex = re.compile(mesh_pattern)\n",
    "\n",
    "files_part = [f for f in files if particle_regex.match(f)]\n",
    "files_mesh = [f for f in files if mesh_regex.match(f)]\n",
    "\n",
    "# total_frames = len(files_part)\n",
    "# for idx in np.linspace(0, len(files_part) - 1, 20, dtype=int):\n",
    "#     print(f\"Loading frame {idx}\")\n",
    "#     file_mesh = os.path.join(folder, files_mesh[idx])\n",
    "#     file_part = os.path.join(folder, files_part[idx])\n",
    "#     plotter.load_results_from_disk(idx, total_frames, file_part, file_mesh)\n",
    "\n",
    "plotter.animate_result_folder(\n",
    "    folder,\n",
    "    total_frames=len(files_part),\n",
    "    start_frame=0,\n",
    "    dt=0.1,\n",
    "    save_filename=\"animation_only_charged_particles\",\n",
    "    format=\"mp4\",\n",
    "    particle_filename_pattern=particle_pattern,\n",
    "    mesh_filename_pattern=mesh_pattern,\n",
    ")\n"
   ]
  },
  {
   "cell_type": "code",
   "execution_count": 7,
   "metadata": {},
   "outputs": [],
   "source": [
    "%matplotlib qt\n",
    "import h5py\n",
    "import numpy as np\n",
    "filename = \"/mnt/c/Users/tryfo/Videos/CFL_deform/results_deform_dt=0.01/results/00001secondary_problem.h5\"\n",
    "with h5py.File(filename, 'r') as f:\n",
    "    # Read the dataset groups\n",
    "    XS = f['X'][:]\n",
    "    YS = f['Y'][:]\n",
    "    ZS = f['Z'][:]\n",
    "    RHS = f['RHS'][:]\n",
    "    SOL = f['SOL'][:]\n",
    "\n",
    "    XS = np.moveaxis(XS, [0, 1, 2], [2, 1, 0])\n",
    "    YS = np.moveaxis(YS, [0, 1, 2], [2, 1, 0])\n",
    "    ZS = np.moveaxis(ZS, [0, 1, 2], [2, 1, 0])\n",
    "    RHS = np.moveaxis(RHS, [0, 1, 2, 3], [3, 2, 1, 0])\n",
    "    SOL = np.moveaxis(SOL, [0, 1, 2, 3], [3, 2, 1, 0])\n",
    "\n",
    "    # Mesh grid needs to have shape adjusted (as done in the original function)\n",
    "    neq = RHS.shape[0]\n",
    "    mesh_positions = np.array([XS, YS, ZS])\n",
    "    mesh_solution = np.array(SOL)\n",
    "    mesh_charges = np.array(RHS)\n",
    "\n",
    "# Plot the mesh\n",
    "import matplotlib.pyplot as plt\n",
    "from mpl_toolkits.mplot3d import Axes3D\n",
    "from matplotlib import cm\n",
    "\n",
    "fig = plt.figure()\n",
    "ax = fig.add_subplot(111, projection='3d')\n",
    "ax.set_xlabel('X')\n",
    "ax.set_ylabel('Y')\n",
    "ax.set_zlabel('Z')\n",
    "\n",
    "# Scale the point according to the charge value\n",
    "# The scaling factor is arbitrary and can be adjusted\n",
    "scaling = np.abs(RHS[0, :, :, :]) / np.max(np.abs(RHS[0, :, :, :]))\n",
    "# Aply log scaling\n",
    "scaling = 5*np.log(scaling + 1)\n",
    "\n",
    "# Plot the mesh value of RHS (charge) and the solution\n",
    "mesh = ax.scatter(XS, YS, ZS, c=RHS[0, :, :, :], cmap=cm.coolwarm, s=scaling)\n",
    "plt.colorbar(mesh)\n",
    "plt.show()\n",
    "\n",
    "# Plot the mesh solution\n",
    "fig = plt.figure()\n",
    "ax = fig.add_subplot(111, projection='3d')\n",
    "ax.set_xlabel('X')\n",
    "ax.set_ylabel('Y')\n",
    "\n",
    "scaling = np.abs(SOL[0, :, :, :]) / np.max(np.abs(SOL[0, :, :, :]))\n",
    "scaling = 2.5*np.log(scaling + 1)\n",
    "\n",
    "# Plot the mesh value of RHS (charge) and the solution\n",
    "mesh = ax.scatter(XS, YS, ZS, c=SOL[1, :, :, :], cmap=cm.coolwarm, s=scaling)\n",
    "plt.colorbar(mesh)\n",
    "plt.show()\n",
    "\n",
    "\n"
   ]
  },
  {
   "cell_type": "code",
   "execution_count": 8,
   "metadata": {},
   "outputs": [
    {
     "data": {
      "text/plain": [
       "np.float32(-0.0)"
      ]
     },
     "execution_count": 8,
     "metadata": {},
     "output_type": "execute_result"
    }
   ],
   "source": [
    "max(RHS[1, :, :, :].flatten())\n"
   ]
  },
  {
   "cell_type": "code",
   "execution_count": null,
   "metadata": {},
   "outputs": [],
   "source": []
  }
 ],
 "metadata": {
  "kernelspec": {
   "display_name": "vpm",
   "language": "python",
   "name": "python3"
  },
  "language_info": {
   "codemirror_mode": {
    "name": "ipython",
    "version": 3
   },
   "file_extension": ".py",
   "mimetype": "text/x-python",
   "name": "python",
   "nbconvert_exporter": "python",
   "pygments_lexer": "ipython3",
   "version": "3.12.5"
  }
 },
 "nbformat": 4,
 "nbformat_minor": 2
}
