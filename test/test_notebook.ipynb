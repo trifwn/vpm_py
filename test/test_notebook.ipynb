{
 "cells": [
  {
   "cell_type": "markdown",
   "metadata": {},
   "source": [
    "# Imports"
   ]
  },
  {
   "cell_type": "code",
   "execution_count": 1,
   "metadata": {},
   "outputs": [],
   "source": [
    "%matplotlib qt\n",
    "%load_ext autoreload   \n",
    "%autoreload 2\n"
   ]
  },
  {
   "cell_type": "code",
   "execution_count": 2,
   "metadata": {},
   "outputs": [],
   "source": [
    "from vpm_py import VPM\n",
    "import numpy as np\n",
    "from mpi4py import MPI\n",
    "\n",
    "from vpm_py.console_io import print_IMPORTANT, print_red, print_blue, print_green\n",
    "from vpm_py.visualization import StandardVisualizer\n",
    "from test_problems.hill_vortex import hill_assign_parallel"
   ]
  },
  {
   "cell_type": "markdown",
   "metadata": {},
   "source": [
    "# Parameters"
   ]
  },
  {
   "cell_type": "code",
   "execution_count": 3,
   "metadata": {},
   "outputs": [],
   "source": [
    "UINF = np.array([0.0, 0.0, 1.0])\n",
    "REYNOLDS_NUMBER = 100 #np.inf #0.1 \n",
    "SPHERE_RADIUS = 2.0\n",
    "# Reynolds number = U * L / nu , where U is the velocity, L is the radius of the sphere and nu is the kinematic viscosity\n",
    "# nu = U * L / REYNOLDS_NUMBER\n",
    "VISCOSITY = np.linalg.norm(UINF) * SPHERE_RADIUS / REYNOLDS_NUMBER\n",
    "# DT should be set according to the CFL condition: CFL = U * DT / dx < 1\n",
    "DT = 0.5 * 0.1 / np.linalg.norm(UINF)\n",
    "MAX_ITER = 500\n",
    "CFL_LIMITS = [0.3 , 0.9]\n",
    "CFL_TARGET = 0.6\n",
    "\n",
    "# OPTIONS\n",
    "remesh = True\n",
    "apply_vorticity_correction = False\n",
    "\n",
    "# CASE FOLDER\n",
    "CASE_FOLDER = \"/mnt/c/Users/tryfonas/Data/hill_vortex\"\n",
    "if REYNOLDS_NUMBER == np.inf:\n",
    "    CASE_FOLDER += \"_Re=inf\"\n",
    "else:\n",
    "    CASE_FOLDER += f\"_Re={REYNOLDS_NUMBER}\"\n",
    "\n",
    "if apply_vorticity_correction:\n",
    "    CASE_FOLDER += \"_correct\"\n",
    "else:\n",
    "    CASE_FOLDER += \"_nocorrect\"\n",
    "\n",
    "if not remesh:\n",
    "    CASE_FOLDER += \"_no_remesh\"\n",
    "\n",
    "CASE_FOLDER += \"/\"\n",
    "\n",
    "# Initialize MPI\n",
    "comm = MPI.COMM_WORLD\n",
    "start_time = MPI.Wtime()\n",
    "rank = comm.Get_rank()\n",
    "np_procs = comm.Get_size()\n"
   ]
  },
  {
   "cell_type": "markdown",
   "metadata": {},
   "source": [
    "# Initialize VPM"
   ]
  },
  {
   "cell_type": "code",
   "execution_count": null,
   "metadata": {},
   "outputs": [],
   "source": [
    "\n",
    "# Initialize VPM\n",
    "vpm = VPM(\n",
    "    number_of_equations=3,\n",
    "    number_of_processors=np_procs,\n",
    "    rank=rank,\n",
    "    verbocity=0,\n",
    "    dx_particle_mesh=0.1,\n",
    "    dy_particle_mesh=0.1,\n",
    "    dz_particle_mesh=0.1,\n",
    "    case_folder=CASE_FOLDER,\n",
    ")\n",
    "plotter = StandardVisualizer(\n",
    "    plot_particles=(\"charge\", \"magnitude\"),  # plot_mesh=(\"velocity\", \"magnitude\")\n",
    ")\n",
    "vpm.attach_visualizer(plotter)\n",
    "\n",
    "\n",
    "# PRINT THE RANK OF THE PROCESS AND DETERMINE HOW MANY PROCESSES ARE RUNNING\n",
    "print_blue(f\"Number of processes: {np_procs}\", rank)\n",
    "comm.Barrier()\n",
    "print_blue(f\"Rank: {rank}\")\n",
    "comm.Barrier()\n"
   ]
  },
  {
   "cell_type": "code",
   "execution_count": null,
   "metadata": {},
   "outputs": [],
   "source": [
    "DT = 1 * 0.1\n",
    "NI = -0.1\n",
    "neq = 3\n",
    "UINF = np.array([0.0, 0.0, 0.0])\n",
    "\n",
    "# Create particles\n",
    "NVR = 100\n",
    "XPR_zero = np.zeros((3, NVR), dtype=np.float64)\n",
    "XPR_zero[:, 0] = np.array([-2, -2, -20])\n",
    "XPR_zero[:, 1] = np.array([2, 2, 20])\n",
    "QPR_zero = np.ones((neq + 1, NVR), dtype=np.float64)\n",
    "UPR_zero = np.zeros((3, NVR), dtype=np.float64)\n",
    "GPR_zero = np.zeros((3, NVR), dtype=np.float64)\n"
   ]
  },
  {
   "cell_type": "code",
   "execution_count": null,
   "metadata": {},
   "outputs": [],
   "source": [
    "# Initialization VPM\n",
    "comm.Barrier()\n",
    "vpm.vpm_define(\n",
    "    num_equations=neq,\n",
    "    particle_positions=XPR_zero,\n",
    "    particle_charges=QPR_zero,\n",
    ")\n",
    "comm.Barrier()\n"
   ]
  },
  {
   "cell_type": "markdown",
   "metadata": {},
   "source": [
    "# Initialize Hill Vortex"
   ]
  },
  {
   "cell_type": "code",
   "execution_count": null,
   "metadata": {},
   "outputs": [],
   "source": [
    "if rank == 0:\n",
    "    st = MPI.Wtime()\n",
    "\n",
    "print_IMPORTANT(\"Hill vortex initialization\", rank)\n",
    "_, RHS_pm_1 = hill_assign_parallel(\n",
    "    Dpm=vpm.dpm,\n",
    "    NN=vpm.particle_mesh.nn,\n",
    "    NN_bl=vpm.particle_mesh.nn_bl,\n",
    "    Xbound=vpm.particle_mesh.xbound,\n",
    "    neqpm=vpm.num_equations,\n",
    "    sphere_radius=1.0,\n",
    "    u_freestream=1.0,\n",
    "    sphere_z_center=0.0,\n",
    ")\n",
    "RHS_pm_hill = RHS_pm_1\n",
    "# visualize_vorticity(RHS_pm_hill, vpm.nn_bl)\n"
   ]
  },
  {
   "cell_type": "code",
   "execution_count": null,
   "metadata": {},
   "outputs": [],
   "source": [
    "vpm.particle_mesh.set_rhs_pm(RHS_pm_hill)\n",
    "print_red(\"Setting RHS_PM as computed from the hill vortex\", rank)\n",
    "\n",
    "if rank == 0:\n",
    "    st = MPI.Wtime()\n",
    "    print_red(\"Remeshing\")\n",
    "XPR_zero, QPR_zero = vpm.remesh_particles(project_particles=False)\n",
    "if rank == 0:\n",
    "    et = MPI.Wtime()\n",
    "    print(f\"\\tRemeshing finished in {int((et - st) / 60)}m {int(et - st) % 60}s\\n\")\n",
    "\n",
    "print_IMPORTANT(\"Particles initialized\", rank)\n",
    "\n",
    "# Create the plot to live update the particles\n",
    "if rank == 0:\n",
    "    remesh_str = 'remesh = True' if remesh else 'remesh = False'\n",
    "    correct_str = 'correction = True' if apply_vorticity_correction else 'correction = False'\n",
    "   \n",
    "    vpm.update_plot(\n",
    "        f\"Reynolds {REYNOLDS_NUMBER} |  Time: {0:.2f}s | Iteration: {0}/{MAX_ITER} | {remesh_str} | {correct_str}\",\n",
    "    ) \n"
   ]
  },
  {
   "cell_type": "code",
   "execution_count": 9,
   "metadata": {},
   "outputs": [],
   "source": [
    "vpm.vpm_define(\n",
    "    num_equations= vpm.num_equations,\n",
    "    particle_positions  =  XPR_zero[:,:],\n",
    "    particle_charges    =  QPR_zero[:,:],\n",
    ")\n",
    "# Main loop\n",
    "T = 0\n",
    "XPR = XPR_zero.copy()\n",
    "QPR = QPR_zero.copy()\n",
    "i = 0\n"
   ]
  },
  {
   "cell_type": "markdown",
   "metadata": {},
   "source": [
    "# Simulate"
   ]
  },
  {
   "cell_type": "code",
   "execution_count": null,
   "metadata": {},
   "outputs": [],
   "source": [
    "i += 1\n",
    "NVR = vpm.particles.NVR\n",
    "XPR = vpm.particles.XP\n",
    "QPR = vpm.particles.QP\n",
    "\n",
    "T += DT\n",
    "print_IMPORTANT(\n",
    "    f\"Iteration= {i} of {MAX_ITER}\\nT={T}\\nDT={DT}\",\n",
    "    rank = rank,\n",
    "    color_divider=\"green\",\n",
    "    color_text=\"green\"\n",
    ")\n",
    "\n",
    "vpm.vpm(\n",
    "    num_equations=neq,\n",
    "    mode = 2,\n",
    "    particle_positions    =  XPR,\n",
    "    particle_charges      =  QPR,\n",
    "    timestep=i,\n",
    "    viscosity=NI,\n",
    ")"
   ]
  },
  {
   "cell_type": "code",
   "execution_count": null,
   "metadata": {},
   "outputs": [],
   "source": [
    "vpm.particles.particle_positions.shape"
   ]
  },
  {
   "cell_type": "code",
   "execution_count": null,
   "metadata": {},
   "outputs": [],
   "source": [
    "print_IMPORTANT(\"INFO\", rank)\n",
    "XPR = vpm.particles.XP\n",
    "QPR = vpm.particles.QP\n",
    "UPR = vpm.particles.UP.to_numpy(copy=True)\n",
    "GPR = vpm.particles.GP.to_numpy(copy=True)\n",
    "# Print the size of the particles\n",
    "# print(f\"Number of particles: {NVR}\")\n",
    "# print(f\"Number of equations: {neq}\")\n",
    "# print('\\n')\n",
    "\n",
    "# print_green(f\"UPR:\")\n",
    "# print(f\"Mean: {np.mean(UPR.data, axis=1)}\")\n",
    "# print(f\"Max: {np.max(UPR.data, axis=1)}\")\n",
    "# print(f\"Min: {np.min(UPR.data, axis=1)}\")\n",
    "# print('\\n')\n",
    "\n",
    "U_PM = vpm.particle_mesh.U\n",
    "for name, u in zip([\"Ux\", \"Uy\", \"Uz\"], U_PM): \n",
    "    print_green(f\"{name}:\")\n",
    "    print(f\"Mean: {np.mean(u)}\")\n",
    "    print(f\"Max: {np.max(u)}\")\n",
    "    print(f\"Min: {np.min(u)}\")\n",
    "    print('\\n')\n",
    "\n",
    "print_IMPORTANT(\"Convecting Particles\", rank)\n",
    "\n",
    "st = MPI.Wtime()\n",
    "# # Move the particles\n",
    "for j in range(vpm.particles.NVR):\n",
    "    # Translate the particles\n",
    "    XPR[:3, j] = XPR[:3, j] + UPR[:3,j] * DT\n",
    "    pass\n",
    "    # QPR[:3, j] -= GPR[:3, j] * DT\n",
    "et = MPI.Wtime()\n",
    "\n",
    "print(f\"\\tConvection finished in {int((et - st) / 60)}m {(et - st) % 60:.2f}s\\n\")\n",
    "print_IMPORTANT(\"Updating the plot\", rank)\n",
    "\n",
    "st = MPI.Wtime()\n",
    "# Update the plot\n",
    "vpm.update_plot(\n",
    "    f\"Reynolds {REYNOLDS_NUMBER} |  Time: {T:.2f}s | Iteration: {i}/{MAX_ITER} | {remesh_str} | {correct_str}\",\n",
    ")\n",
    "et = MPI.Wtime()\n",
    "print(f\"\\tUpdating the plot finished in {int((et - st) / 60)}m {(et - st) % 60:.2f}s\\n\")\n",
    "print_IMPORTANT(\"Saving the particles and particle mesh\", rank)\n",
    "\n",
    "st = MPI.Wtime()\n",
    "vpm.particles.save_to_file(filename= \"particles_test\", folder=\"vpm_case\")\n",
    "vpm.particle_mesh.save_to_file(filename= \"particle_mesh_test\", folder=\"vpm_case\")\n",
    "et = MPI.Wtime()\n",
    "print(f\"\\tSaving the particles and particle mesh finished in {int((et - st) / 60)}m {(et - st) % 60:.2f}s\\n\")\n"
   ]
  },
  {
   "cell_type": "markdown",
   "metadata": {},
   "source": [
    "## Remesh and Redefine"
   ]
  },
  {
   "cell_type": "code",
   "execution_count": 12,
   "metadata": {},
   "outputs": [],
   "source": [
    "vpm.vpm_define(\n",
    "    num_equations=neq,\n",
    "    particle_positions  =  XPR,\n",
    "    particle_charges    =  QPR,\n",
    "    timestep=i,\n",
    ")\n",
    "# XPR, QPR = vpm.remesh_particles(project_particles=True, cut_off=1e-5)\n"
   ]
  },
  {
   "cell_type": "code",
   "execution_count": null,
   "metadata": {},
   "outputs": [],
   "source": []
  }
 ],
 "metadata": {
  "kernelspec": {
   "display_name": "vpm",
   "language": "python",
   "name": "python3"
  },
  "language_info": {
   "codemirror_mode": {
    "name": "ipython",
    "version": 3
   },
   "file_extension": ".py",
   "mimetype": "text/x-python",
   "name": "python",
   "nbconvert_exporter": "python",
   "pygments_lexer": "ipython3",
   "version": "3.12.8"
  }
 },
 "nbformat": 4,
 "nbformat_minor": 2
}
